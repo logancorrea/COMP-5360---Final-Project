{
 "cells": [
  {
   "cell_type": "markdown",
   "metadata": {},
   "source": [
    "### Project Description\n"
   ]
  },
  {
   "cell_type": "markdown",
   "metadata": {},
   "source": [
    "### Data Description"
   ]
  },
  {
   "cell_type": "markdown",
   "metadata": {},
   "source": [
    "### Ethical Data Concerns"
   ]
  },
  {
   "cell_type": "markdown",
   "metadata": {},
   "source": [
    "### Methods"
   ]
  },
  {
   "cell_type": "markdown",
   "metadata": {},
   "source": [
    "### Preliminary Results\n",
    "\n",
    "Using Principal Component Analysis on our dataset, we found that with 6 PCA components we can explain 93.17% of variance in our data. \n",
    "\n",
    "The first two components (PC1 and PC2) differentiate between the thermal characteristics of exoplanets and their stellar hosts, with PC1 closely associated with the equilibrium temperature (koi_teq), indicating its strong influence by the thermal properties of exoplanets and their transit features. PC2, on the other hand, is significantly correlated with stellar effective temperature (koi_steff), pointing towards its role in capturing variations in the thermal properties of stars, especially highlighting the inverse relationship between stellar temperature and surface gravity.\n",
    "\n",
    "Further analysis from PC3 to PC6 reveals intricate details of the dataset: PC3's strong positive correlation with koi_time0bk signifies its emphasis on transit timing, while PC4, with its positive correlation to koi_duration, suggests its significance in representing the duration of these transits, associating longer durations with specific stellar characteristics. PC5, through its negative relationship with koi_teq, underscores variations in cooler temperatures across the dataset. Notably, PC6 stands out for its strong positive correlation with koi_model_snr (Signal to Noise Ratio), underlining the component's critical role in distinguishing the quality of exoplanet detection signals.\n",
    "\n",
    "After plotting our first 3 PCA components, the visualizations suggested that PCA is not as effective at capturing significant variance related to the KOI disposition, which was indicated by the minimal clustering patterns of the different statuses: False Positive, Candidate, and Confirmed. While there is some degree of separation between the categories, indicating the effectiveness of PCA in distinguishing between different dispositions, overlaps between Candidate and Confirmed categories suggest similarities in their characteristics. This overlap might reflect the continuum from Candidate to Confirmed status, where additional verification and observation are required."
   ]
  },
  {
   "cell_type": "markdown",
   "metadata": {},
   "source": [
    "### Peer Feedback"
   ]
  },
  {
   "cell_type": "markdown",
   "metadata": {},
   "source": [
    "### Completed Milestones"
   ]
  },
  {
   "cell_type": "markdown",
   "metadata": {},
   "source": [
    "### Methods Milestones"
   ]
  },
  {
   "cell_type": "markdown",
   "metadata": {},
   "source": [
    "### Summary"
   ]
  }
 ],
 "metadata": {
  "language_info": {
   "name": "python"
  }
 },
 "nbformat": 4,
 "nbformat_minor": 2
}
